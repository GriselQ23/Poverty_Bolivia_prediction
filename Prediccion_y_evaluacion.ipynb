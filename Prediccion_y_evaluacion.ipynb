{
  "nbformat": 4,
  "nbformat_minor": 0,
  "metadata": {
    "colab": {
      "name": "Prediccion_y_evaluacion.ipynb",
      "provenance": []
    },
    "kernelspec": {
      "name": "python3",
      "display_name": "Python 3"
    },
    "language_info": {
      "name": "python"
    }
  },
  "cells": [
    {
      "cell_type": "code",
      "execution_count": null,
      "metadata": {
        "id": "J3UQvO_3vMbv"
      },
      "outputs": [],
      "source": [
        "import numpy as np\n",
        "from keras.preprocessing.image import load_img, img_to_array\n",
        "from keras.models import load_model\n",
        "import os\n",
        "import zipfile\n",
        "from google.colab import drive\n",
        "from keras.preprocessing.image import ImageDataGenerator \n",
        "from sklearn.metrics import confusion_matrix, f1_score, roc_curve, precision_score, recall_score, accuracy_score, roc_auc_score\n",
        "from sklearn import metrics"
      ]
    },
    {
      "cell_type": "code",
      "source": [
        "drive.mount('/content/drive')"
      ],
      "metadata": {
        "colab": {
          "base_uri": "https://localhost:8080/"
        },
        "id": "OHG7OQM5wcHq",
        "outputId": "08c6acd1-d554-4afb-f66d-d202be71eceb"
      },
      "execution_count": null,
      "outputs": [
        {
          "output_type": "stream",
          "name": "stdout",
          "text": [
            "Drive already mounted at /content/drive; to attempt to forcibly remount, call drive.mount(\"/content/drive\", force_remount=True).\n"
          ]
        }
      ]
    },
    {
      "cell_type": "markdown",
      "source": [
        "#Carga de datos"
      ],
      "metadata": {
        "id": "B0Rcb4OAwwsb"
      }
    },
    {
      "cell_type": "code",
      "source": [
        "zip_ref=zipfile.ZipFile('/content/drive/Shareddrives/PovertyModels/data/Data_Rural_vs_Urbano2.zip')\n",
        "zip_ref.extractall('/tmp')\n",
        "zip_ref.close()"
      ],
      "metadata": {
        "id": "apMQ_VavwpC-"
      },
      "execution_count": null,
      "outputs": []
    },
    {
      "cell_type": "code",
      "source": [
        "base_dir='/tmp/'\n",
        "dev_dir=('/tmp/Data_Rural_vs_Urbano2/Dev')\n",
        "dev_1_dir=('/tmp/Data_Rural_vs_Urbano2/Dev/Rural')\n",
        "dev_2_dir=('/tmp/Data_Rural_vs_Urbano2/Dev/Urbano')\n",
        "\n",
        "print('total de imagenes rurales : ', len(os.listdir(dev_1_dir)))\n",
        "print('total de imagenes urbanas : ', len(os.listdir(dev_2_dir)))"
      ],
      "metadata": {
        "colab": {
          "base_uri": "https://localhost:8080/"
        },
        "id": "Zl6Zr7SuxPHB",
        "outputId": "a3a51bc2-65fc-498d-fdc1-a9afac2fb69a"
      },
      "execution_count": null,
      "outputs": [
        {
          "output_type": "stream",
          "name": "stdout",
          "text": [
            "total de imagenes rurales :  61\n",
            "total de imagenes urbanas :  49\n"
          ]
        }
      ]
    },
    {
      "cell_type": "code",
      "source": [
        "base_dir='/tmp/'\n",
        "test_dir=('/tmp/Data_Rural_vs_Urbano2/Test')\n",
        "test_1_dir=('/tmp/Data_Rural_vs_Urbano2/Test/Rural')\n",
        "test_2_dir=('/tmp/Data_Rural_vs_Urbano2/Test/Urbano')\n",
        "\n",
        "print('total de imagenes rurales : ', len(os.listdir(test_1_dir)))\n",
        "print('total de imagenes urbanas : ', len(os.listdir(test_2_dir)))"
      ],
      "metadata": {
        "colab": {
          "base_uri": "https://localhost:8080/"
        },
        "id": "sGGAfaIA3PEp",
        "outputId": "db1271ee-679a-4a8b-e019-a9f2adccf2b4"
      },
      "execution_count": null,
      "outputs": [
        {
          "output_type": "stream",
          "name": "stdout",
          "text": [
            "total de imagenes rurales :  61\n",
            "total de imagenes urbanas :  49\n"
          ]
        }
      ]
    },
    {
      "cell_type": "markdown",
      "source": [
        "Cargamos el modelo"
      ],
      "metadata": {
        "id": "O0y5rw0OyAsR"
      }
    },
    {
      "cell_type": "code",
      "source": [
        "longitud, altura = 224,224\n",
        "modelo1 = '/content/drive/Shareddrives/PovertyModels/Modelos/modelRvU_Resnet.h5'\n",
        "pesos_modelo1 = '/content/drive/Shareddrives/PovertyModels/Modelos/RvUpesos.h5'\n",
        "cnn1 = load_model(modelo1)\n",
        "cnn1.load_weights(pesos_modelo1)"
      ],
      "metadata": {
        "id": "oXY9ELpRx-_S"
      },
      "execution_count": null,
      "outputs": []
    },
    {
      "cell_type": "code",
      "source": [
        "def predict(file):\n",
        "  x=load_img(file, target_size=(longitud, altura))\n",
        "  x=img_to_array(x)\n",
        "  x= np.expand_dims(x, axis=0)\n",
        "  array=cnn1.predict(x)\n",
        "  result=array[0]\n",
        "  answer=np.argmax(result)\n",
        "\n",
        "  return answer"
      ],
      "metadata": {
        "id": "WLdfB5_-1BlJ"
      },
      "execution_count": null,
      "outputs": []
    },
    {
      "cell_type": "code",
      "source": [
        "#Rural dev\n",
        "def listnb3(): \n",
        "  counter_0=0\n",
        "  counter_1=0\n",
        "  total_r=61 \n",
        "  lista_dir=[]\n",
        "  for i in range(1, 62):\n",
        "    answer_resp=predict('/tmp/Data_Rural_vs_Urbano2/Dev/Rural/Rural'+str(i)+'.jpg')\n",
        "    if answer_resp==0:\n",
        "      counter_0 = counter_0+1\n",
        "    elif answer_resp==1:\n",
        "      counter_1=counter_1+1\n",
        "  print('porcentaje de imagenes rurales: ' +str(counter_0/total_r*100)+'%\\nporcentaje de imagenes urbanas: '+str(counter_1/total_r*100))"
      ],
      "metadata": {
        "id": "awnP7HGCypHd"
      },
      "execution_count": null,
      "outputs": []
    },
    {
      "cell_type": "code",
      "source": [
        "listnb3()"
      ],
      "metadata": {
        "colab": {
          "base_uri": "https://localhost:8080/"
        },
        "id": "Hx30fRbn0bQp",
        "outputId": "b7429426-b766-48ec-d602-7087105c59cd"
      },
      "execution_count": null,
      "outputs": [
        {
          "output_type": "stream",
          "name": "stdout",
          "text": [
            "porcentaje de imagenes rurales: 98.36065573770492%\n",
            "porcentaje de imagenes urbanas: 1.639344262295082\n"
          ]
        }
      ]
    },
    {
      "cell_type": "code",
      "source": [
        "#Urbano dev\n",
        "def listnb4(): \n",
        "  counter_0=0\n",
        "  counter_1=0\n",
        "  total_r=49 \n",
        "  lista_dir=[]\n",
        "  for i in range(1, 50):\n",
        "    answer_resp=predict('/tmp/Data_Rural_vs_Urbano2/Dev/Urbano/Urbano'+str(i)+'.jpg')\n",
        "    if answer_resp==0:\n",
        "      counter_0 = counter_0+1\n",
        "    elif answer_resp==1:\n",
        "      counter_1=counter_1+1\n",
        "  print('porcentaje de imagenes rurales: ' +str(counter_0/total_r*100)+'%\\nporcentaje de imagenes urbanas: '+str(counter_1/total_r*100))"
      ],
      "metadata": {
        "id": "lkm8EDem0dBS"
      },
      "execution_count": null,
      "outputs": []
    },
    {
      "cell_type": "code",
      "source": [
        "listnb4()"
      ],
      "metadata": {
        "colab": {
          "base_uri": "https://localhost:8080/"
        },
        "id": "cRYJDosR2Udh",
        "outputId": "a55a59f3-44ca-459f-e9fa-a1f65eb50edc"
      },
      "execution_count": null,
      "outputs": [
        {
          "output_type": "stream",
          "name": "stdout",
          "text": [
            "porcentaje de imagenes rurales: 16.3265306122449%\n",
            "porcentaje de imagenes urbanas: 83.6734693877551\n"
          ]
        }
      ]
    },
    {
      "cell_type": "code",
      "source": [
        "#Rural Test\n",
        "def listnb5(): \n",
        "  counter_0=0\n",
        "  counter_1=0\n",
        "  total_r=61 \n",
        "  lista_dir=[]\n",
        "  for i in range(1, 62):\n",
        "    answer_resp=predict('/tmp/Data_Rural_vs_Urbano2/Test/Rural/Rural'+str(i)+'.jpg')\n",
        "    if answer_resp==0:\n",
        "      counter_0 = counter_0+1\n",
        "    elif answer_resp==1:\n",
        "      counter_1=counter_1+1\n",
        "  print('porcentaje de imagenes rurales: ' +str(counter_0/total_r*100)+'%\\nporcentaje de imagenes urbanas: '+str(counter_1/total_r*100))"
      ],
      "metadata": {
        "id": "qxXxyA_M2i2m"
      },
      "execution_count": null,
      "outputs": []
    },
    {
      "cell_type": "code",
      "source": [
        "listnb5()"
      ],
      "metadata": {
        "colab": {
          "base_uri": "https://localhost:8080/"
        },
        "id": "KzkyKbON3Fdw",
        "outputId": "d20ac822-aa8b-4dde-ff62-ba033b2ca423"
      },
      "execution_count": null,
      "outputs": [
        {
          "output_type": "stream",
          "name": "stdout",
          "text": [
            "porcentaje de imagenes rurales: 67.21311475409836%\n",
            "porcentaje de imagenes urbanas: 32.78688524590164\n"
          ]
        }
      ]
    },
    {
      "cell_type": "code",
      "source": [
        "#Rural Test\n",
        "def listnb6(): \n",
        "  counter_0=0\n",
        "  counter_1=0\n",
        "  total_r=49 \n",
        "  lista_dir=[]\n",
        "  for i in range(1, 50):\n",
        "    answer_resp=predict('/tmp/Data_Rural_vs_Urbano2/Test/Urbano/Urbano'+str(i)+'.jpg')\n",
        "    if answer_resp==0:\n",
        "      counter_0 = counter_0+1\n",
        "    elif answer_resp==1:\n",
        "      counter_1=counter_1+1\n",
        "  print('porcentaje de imagenes rurales: ' +str(counter_0/total_r*100)+'%\\nporcentaje de imagenes urbanas: '+str(counter_1/total_r*100))"
      ],
      "metadata": {
        "id": "inhTyGaB3nBu"
      },
      "execution_count": null,
      "outputs": []
    },
    {
      "cell_type": "code",
      "source": [
        "listnb6()"
      ],
      "metadata": {
        "colab": {
          "base_uri": "https://localhost:8080/"
        },
        "id": "i6EjkImb3-YQ",
        "outputId": "82f24308-068e-4572-c69d-de64415c3703"
      },
      "execution_count": null,
      "outputs": [
        {
          "output_type": "stream",
          "name": "stdout",
          "text": [
            "porcentaje de imagenes rurales: 16.3265306122449%\n",
            "porcentaje de imagenes urbanas: 83.6734693877551\n"
          ]
        }
      ]
    },
    {
      "cell_type": "code",
      "source": [
        "dev_data_dir = '/tmp/Data_Rural_vs_Urbano2/Dev'\n",
        "dev_datagen = ImageDataGenerator()\n",
        "\n",
        "dev_generator = dev_datagen.flow_from_directory(\n",
        "    dev_data_dir,\n",
        "    target_size=(longitud,altura),\n",
        "    batch_size=16,\n",
        "    class_mode='categorical',\n",
        "    shuffle=False\n",
        ")\n",
        "custom_model=load_model(modelo1)\n",
        "predictions=custom_model.predict_generator(generator=dev_generator)\n",
        "y_pred=np.argmax(predictions, axis=1)\n",
        "y_real=dev_generator.classes"
      ],
      "metadata": {
        "colab": {
          "base_uri": "https://localhost:8080/"
        },
        "id": "VSVuXbNq4oQa",
        "outputId": "50e42bbb-3054-48c4-ad19-612ff1d6844b"
      },
      "execution_count": null,
      "outputs": [
        {
          "output_type": "stream",
          "name": "stdout",
          "text": [
            "Found 110 images belonging to 2 classes.\n"
          ]
        },
        {
          "output_type": "stream",
          "name": "stderr",
          "text": [
            "/usr/local/lib/python3.7/dist-packages/ipykernel_launcher.py:12: UserWarning: `Model.predict_generator` is deprecated and will be removed in a future version. Please use `Model.predict`, which supports generators.\n",
            "  if sys.path[0] == '':\n"
          ]
        }
      ]
    },
    {
      "cell_type": "code",
      "source": [
        "from sklearn.metrics import confusion_matrix\n",
        "confusion_matrix(y_real, y_pred)"
      ],
      "metadata": {
        "colab": {
          "base_uri": "https://localhost:8080/"
        },
        "id": "vj39GZIw4AJy",
        "outputId": "77c6cb3f-b0ce-4a6b-84c9-47da171afe93"
      },
      "execution_count": null,
      "outputs": [
        {
          "output_type": "execute_result",
          "data": {
            "text/plain": [
              "array([[60,  1],\n",
              "       [ 8, 41]])"
            ]
          },
          "metadata": {},
          "execution_count": 29
        }
      ]
    },
    {
      "cell_type": "code",
      "source": [
        "print(metrics.classification_report(y_real, y_pred, digits =4))"
      ],
      "metadata": {
        "colab": {
          "base_uri": "https://localhost:8080/"
        },
        "id": "HXd9Ykuv4lwZ",
        "outputId": "27685998-7a78-4de5-b641-a544b552e5f9"
      },
      "execution_count": null,
      "outputs": [
        {
          "output_type": "stream",
          "name": "stdout",
          "text": [
            "              precision    recall  f1-score   support\n",
            "\n",
            "           0     0.8824    0.9836    0.9302        61\n",
            "           1     0.9762    0.8367    0.9011        49\n",
            "\n",
            "    accuracy                         0.9182       110\n",
            "   macro avg     0.9293    0.9102    0.9157       110\n",
            "weighted avg     0.9242    0.9182    0.9173       110\n",
            "\n"
          ]
        }
      ]
    }
  ]
}