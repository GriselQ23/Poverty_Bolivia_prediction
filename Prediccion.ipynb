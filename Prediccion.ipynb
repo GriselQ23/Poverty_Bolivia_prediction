{
  "nbformat": 4,
  "nbformat_minor": 0,
  "metadata": {
    "colab": {
      "name": "Prediccion.ipynb",
      "provenance": [],
      "collapsed_sections": []
    },
    "kernelspec": {
      "name": "python3",
      "display_name": "Python 3"
    }
  },
  "cells": [
    {
      "cell_type": "code",
      "metadata": {
        "id": "T0Zl3ChhbMWY"
      },
      "source": [
        "import numpy as np\n",
        "from keras.preprocessing.image import load_img, img_to_array\n",
        "from keras.models import load_model\n",
        "import os\n",
        "import zipfile\n",
        "from google.colab import drive"
      ],
      "execution_count": null,
      "outputs": []
    },
    {
      "cell_type": "code",
      "metadata": {
        "colab": {
          "base_uri": "https://localhost:8080/"
        },
        "id": "dhK-rlFED4Qz",
        "outputId": "7ea047c4-1491-4166-8d16-492f86e6952c"
      },
      "source": [
        "drive.mount('/content/drive/')"
      ],
      "execution_count": null,
      "outputs": [
        {
          "output_type": "stream",
          "name": "stdout",
          "text": [
            "Mounted at /content/drive/\n"
          ]
        }
      ]
    },
    {
      "cell_type": "code",
      "metadata": {
        "id": "CQg6teZGb22g"
      },
      "source": [
        "longitud, altura = 224, 224\n",
        "modelo = '/content/drive/Shareddrives/PovertyModels/Modelos/modeloFTL10_Rnet.h5'\n",
        "#pesos_modelo = '/content/drive/Shareddrives/PovertyModels/Modelos/modeloFTL6_pesos.h5'\n",
        "#weights = modelo.get_weights() \n",
        "cnn = load_model(modelo)\n",
        "#cnn.load_weights(weights)"
      ],
      "execution_count": null,
      "outputs": []
    },
    {
      "cell_type": "code",
      "metadata": {
        "id": "47Rl6zf9cfEm"
      },
      "source": [
        "def predict(file):\n",
        "\n",
        "  #for i, img_path in enumerate(next_cat_pix+next_dog_pix): \n",
        "  x = load_img(file, target_size=(longitud, altura))\n",
        "  x = img_to_array(x)\n",
        "  x = np.expand_dims(x, axis=0)\n",
        "  array = cnn.predict(x)\n",
        "  result = array[0]\n",
        "  answer = np.argmax(result)\n",
        "  #print(cnn.predict(x))\n",
        "  #if answer == 0:\n",
        "    #print(\"pred: nbi\")\n",
        "  #elif answer == 1:\n",
        "    #print(\"pred: nbs\")\n",
        "\n",
        "\n",
        "  return answer"
      ],
      "execution_count": null,
      "outputs": []
    },
    {
      "cell_type": "code",
      "metadata": {
        "colab": {
          "base_uri": "https://localhost:8080/"
        },
        "id": "OGzti65zgLhf",
        "outputId": "68d2fb90-e890-47ea-9909-0b94501fe3c3"
      },
      "source": [
        "predict('/2Categoria7.jpg')"
      ],
      "execution_count": null,
      "outputs": [
        {
          "output_type": "execute_result",
          "data": {
            "text/plain": [
              "1"
            ]
          },
          "metadata": {
            "tags": []
          },
          "execution_count": 6
        }
      ]
    },
    {
      "cell_type": "code",
      "metadata": {
        "id": "fFS84nRh7DIv"
      },
      "source": [
        "\n",
        "#zip_ref = zipfile.ZipFile(\"/content/drive/Shareddrives/PovertyModels/data/La_Paz.zip\", 'r')\n",
        "zip_ref = zipfile.ZipFile(\"/content/drive/Shareddrives/PovertyModels/data/dataset10.zip\", 'r')\n",
        "#zip_ref = zipfile.ZipFile(\"/content/drive/Shareddrives/PovertyModels/data/Oruro1.zip\", 'r')\n",
        "zip_ref.extractall(\"/tmp\")\n",
        "zip_ref.close()"
      ],
      "execution_count": null,
      "outputs": []
    },
    {
      "cell_type": "code",
      "metadata": {
        "colab": {
          "base_uri": "https://localhost:8080/"
        },
        "id": "jB6Rs0xk4rGi",
        "outputId": "308e1f06-0c4c-4577-9a76-8d9d6f53138f"
      },
      "source": [
        "base_dir = '/tmp/'\n",
        "test_dir = (\"/tmp/Validacion/\")\n",
        "test_1_dir = os.path.join(test_dir, '1')\n",
        "test_2_dir = os.path.join(test_dir, '2')\n",
        "test_3_dir = os.path.join(test_dir, '3')\n",
        "\n",
        "print('total test 1 images : ', len(os.listdir(test_1_dir)))\n",
        "print('total test 2 images : ', len(os.listdir(test_2_dir)))\n",
        "print('total test 3 images : ', len(os.listdir(test_3_dir)))"
      ],
      "execution_count": null,
      "outputs": [
        {
          "output_type": "stream",
          "text": [
            "total test 1 images :  387\n",
            "total test 2 images :  550\n",
            "total test 3 images :  400\n"
          ],
          "name": "stdout"
        }
      ]
    },
    {
      "cell_type": "markdown",
      "metadata": {
        "id": "l0-MQQG80DtC"
      },
      "source": [
        "# Clase 1"
      ]
    },
    {
      "cell_type": "code",
      "metadata": {
        "id": "FrlrrARs4FgW"
      },
      "source": [
        "def listnbc():\n",
        "  counter_0 = 0 \n",
        "  counter_1 = 0\n",
        "  counter_2 = 0 \n",
        "  #clase1=155 clase2=142 clase3=127\n",
        "  total_nbi = 387\n",
        "  lista_dir = []\n",
        "  for i in range (1355, 1742): \n",
        "    answer_resp = predict('/tmp/Validacion/1/1clase'+str(i)+'.jpg')\n",
        " \n",
        "    \n",
        "    if answer_resp == 0:\n",
        "      #lista_dir.append(0)\n",
        "      counter_0 = counter_0+1\n",
        "    elif answer_resp == 1:\n",
        "      #lista_dir.append(1)\n",
        "      #print(i)\n",
        "      counter_1 = counter_1+1\n",
        "    elif answer_resp == 2:\n",
        "      #lista_dir.append(1)\n",
        "      counter_2 = counter_2+1\n",
        "  #print(lista_dir)\n",
        "  print('porcentaje 0 : ' + str(counter_0/total_nbi*100)+'%\\nporcentaje 1: '+str(counter_1/total_nbi*100)+'%\\nporcentaje 2: '+str(counter_2/total_nbi*100))"
      ],
      "execution_count": null,
      "outputs": []
    },
    {
      "cell_type": "code",
      "metadata": {
        "colab": {
          "base_uri": "https://localhost:8080/"
        },
        "id": "8CocnYFN9BPO",
        "outputId": "fe84e172-cf77-422b-e4b6-0491dfd7c76e"
      },
      "source": [
        "listnbc()"
      ],
      "execution_count": null,
      "outputs": [
        {
          "output_type": "stream",
          "text": [
            "porcentaje 0 : 27.906976744186046%\n",
            "porcentaje 1: 67.95865633074936%\n",
            "porcentaje 2: 4.1343669250646\n"
          ],
          "name": "stdout"
        }
      ]
    },
    {
      "cell_type": "markdown",
      "metadata": {
        "id": "8LRq94aX0HyK"
      },
      "source": [
        "# Clase 2"
      ]
    },
    {
      "cell_type": "code",
      "metadata": {
        "id": "5OL1QQLa7h39"
      },
      "source": [
        "def listnb1():\n",
        "  counter_0 = 0 \n",
        "  counter_1 = 0\n",
        "  counter_2 = 0 \n",
        "  #clase1=155 clase2=142 clase3=127\n",
        "  total_nbi = 550\n",
        "  v_min = 1402\n",
        "  v_max = 1952\n",
        "  path = '/tmp/Validacion/2/2categoria'\n",
        "  lista_dir = []\n",
        "  for i in range (v_min, v_max): \n",
        "    answer_resp = predict(path+str(i)+'.jpg')\n",
        " \n",
        "    \n",
        "    if answer_resp == 0:\n",
        "      #lista_dir.append(0)\n",
        "      counter_0 = counter_0+1\n",
        "    elif answer_resp == 1:\n",
        "      #lista_dir.append(1)\n",
        "      counter_1 = counter_1+1\n",
        "    elif answer_resp == 2:\n",
        "      #lista_dir.append(1)\n",
        "      counter_2 = counter_2+1\n",
        "  #print(lista_dir)\n",
        "  print('porcentaje 0 : ' + str(counter_0/total_nbi*100)+'%\\nporcentaje 1: '+str(counter_1/total_nbi*100)+'%\\nporcentaje 2: '+str(counter_2/total_nbi*100))"
      ],
      "execution_count": null,
      "outputs": []
    },
    {
      "cell_type": "code",
      "metadata": {
        "colab": {
          "base_uri": "https://localhost:8080/"
        },
        "id": "gfTOKjvy1JRx",
        "outputId": "60631be1-0a89-4aad-ee3a-2a9458cee34a"
      },
      "source": [
        "listnb1()"
      ],
      "execution_count": null,
      "outputs": [
        {
          "output_type": "stream",
          "text": [
            "porcentaje 0 : 2.3636363636363638%\n",
            "porcentaje 1: 89.81818181818181%\n",
            "porcentaje 2: 7.818181818181818\n"
          ],
          "name": "stdout"
        }
      ]
    },
    {
      "cell_type": "markdown",
      "metadata": {
        "id": "v6YndmlU0O6R"
      },
      "source": [
        "#Clase 3"
      ]
    },
    {
      "cell_type": "code",
      "metadata": {
        "id": "B3AQgv_um9iR"
      },
      "source": [
        "def listnb2():\n",
        "  counter_0 = 0 \n",
        "  counter_1 = 0\n",
        "  counter_2 = 0 \n",
        "  #clase1=155 clase2=142 clase3=127\n",
        "  total_nbi = 400\n",
        "  lista_dir = []\n",
        "  v_min =1401\n",
        "  v_max =1801\n",
        "  path = '/tmp/Validacion/3/3clase'\n",
        "  for i in range (v_min, v_max): \n",
        "    answer_resp = predict(path+str(i)+'.jpg')\n",
        " \n",
        "    \n",
        "    if answer_resp == 0:\n",
        "      #lista_dir.append(0)\n",
        "      counter_0 = counter_0+1\n",
        "    elif answer_resp == 1:\n",
        "      #lista_dir.append(1)\n",
        "      counter_1 = counter_1+1\n",
        "    elif answer_resp == 2:\n",
        "      #lista_dir.append(1)\n",
        "      #print(i)\n",
        "      counter_2 = counter_2+1\n",
        "  #print(lista_dir)\n",
        "  print('porcentaje 0 : ' + str(counter_0/total_nbi*100)+'%\\nporcentaje 1: '+str(counter_1/total_nbi*100)+'%\\nporcentaje 2: '+str(counter_2/total_nbi*100))\n",
        "    "
      ],
      "execution_count": null,
      "outputs": []
    },
    {
      "cell_type": "code",
      "metadata": {
        "colab": {
          "base_uri": "https://localhost:8080/"
        },
        "id": "VFUa3uT6xyvC",
        "outputId": "986e8026-1a3e-45d8-e930-81935f8fba94"
      },
      "source": [
        "listnb2()"
      ],
      "execution_count": null,
      "outputs": [
        {
          "output_type": "stream",
          "text": [
            "porcentaje 0 : 0.0%\n",
            "porcentaje 1: 24.0%\n",
            "porcentaje 2: 76.0\n"
          ],
          "name": "stdout"
        }
      ]
    },
    {
      "cell_type": "markdown",
      "metadata": {
        "id": "e1s4_8aw2FWx"
      },
      "source": [
        "# Rural vs Urbano"
      ]
    },
    {
      "cell_type": "markdown",
      "metadata": {
        "id": "MnsxbLyL2qZZ"
      },
      "source": [
        "Carga de datos"
      ]
    },
    {
      "cell_type": "code",
      "metadata": {
        "id": "SopRzWrb2lXK"
      },
      "source": [
        "zip_ref = zipfile.ZipFile(\"/content/drive/Shareddrives/PovertyModels/data/Data_Rural_vs_Urbano2.zip\", 'r')\n",
        "zip_ref.extractall(\"/tmp\")\n",
        "zip_ref.close()"
      ],
      "execution_count": null,
      "outputs": []
    },
    {
      "cell_type": "markdown",
      "metadata": {
        "id": "Lt0Ll1a629wJ"
      },
      "source": [
        "Carga del modelo"
      ]
    },
    {
      "cell_type": "code",
      "metadata": {
        "id": "JSVWi90o28ax"
      },
      "source": [
        "longitud, altura = 224, 224\n",
        "modelo1 = '/content/drive/Shareddrives/PovertyModels/Modelos/modelRvU_Resnet.h5'\n",
        "pesos_modelo1 = '/content/drive/Shareddrives/PovertyModels/Modelos/RvUpesos.h5'\n",
        "cnn1 = load_model(modelo1)\n",
        "cnn1.load_weights(pesos_modelo1)"
      ],
      "execution_count": null,
      "outputs": []
    },
    {
      "cell_type": "code",
      "metadata": {
        "id": "q2Ck6JJB4W9S"
      },
      "source": [
        "def predict(file):\n",
        "\n",
        "  #for i, img_path in enumerate(next_cat_pix+next_dog_pix): \n",
        "  x = load_img(file, target_size=(longitud, altura))\n",
        "  x = img_to_array(x)\n",
        "  x = np.expand_dims(x, axis=0)\n",
        "  array = cnn1.predict(x)\n",
        "  result = array[0]\n",
        "  answer = np.argmax(result)\n",
        "  #print(cnn.predict(x))\n",
        "  #if answer == 0:\n",
        "    #print(\"pred: nbi\")\n",
        "  #elif answer == 1:\n",
        "    #print(\"pred: nbs\")\n",
        "\n",
        "\n",
        "  return answer"
      ],
      "execution_count": null,
      "outputs": []
    },
    {
      "cell_type": "markdown",
      "metadata": {
        "id": "Svhe9oGUEeOM"
      },
      "source": [
        "# **Rural GS**"
      ]
    },
    {
      "cell_type": "code",
      "metadata": {
        "id": "CFBfOtI3nXqg"
      },
      "source": [
        "def listnb3():\n",
        "  counter_0 = 0 \n",
        "  counter_1 = 0\n",
        "  total_nbi = 61\n",
        "  lista_dir = []\n",
        "  for i in range (1, 62): \n",
        "    answer_resp = predict('/tmp/Data_Rural_vs_Urbano2/Dev/Rural/Rural'+str(i)+'.jpg')\n",
        " \n",
        "    \n",
        "    if answer_resp == 0:\n",
        "      #lista_dir.append(0)\n",
        "      counter_0 = counter_0+1\n",
        "    elif answer_resp == 1:\n",
        "      #lista_dir.append(1)\n",
        "      counter_1 = counter_1+1\n",
        "  #print(lista_dir)\n",
        "  print('porcentaje 0 rural : ' + str(counter_0/total_nbi*100)+'%\\nporcentaje urbano: '+str(counter_1/total_nbi*100))"
      ],
      "execution_count": null,
      "outputs": []
    },
    {
      "cell_type": "code",
      "metadata": {
        "colab": {
          "base_uri": "https://localhost:8080/"
        },
        "id": "gj6AkokE71-P",
        "outputId": "3e4d2bc7-9586-485c-d437-7046fd534b09"
      },
      "source": [
        "listnb3()"
      ],
      "execution_count": null,
      "outputs": [
        {
          "output_type": "stream",
          "name": "stdout",
          "text": [
            "porcentaje 0 rural : 98.36065573770492%\n",
            "porcentaje urbano: 1.639344262295082\n"
          ]
        }
      ]
    },
    {
      "cell_type": "markdown",
      "metadata": {
        "id": "vNaXA5xRGZSz"
      },
      "source": [
        "# **Urbano Validación** "
      ]
    },
    {
      "cell_type": "code",
      "metadata": {
        "id": "0Oh0Np11GpwE"
      },
      "source": [
        "def listnb6():\n",
        "  counter_0 = 0 \n",
        "  counter_1 = 0\n",
        "  total_nbi = 49\n",
        "  lista_dir = []\n",
        "  for i in range (1, 50): \n",
        "    answer_resp = predict('/tmp/Data_Rural_vs_Urbano2/Test/Urbano/Urbano'+str(i)+'.jpg')\n",
        " \n",
        "    \n",
        "    if answer_resp == 0:\n",
        "      #lista_dir.append(0)\n",
        "      counter_0 = counter_0+1\n",
        "    elif answer_resp == 1:\n",
        "      #lista_dir.append(1)\n",
        "      counter_1 = counter_1+1\n",
        "  #print(lista_dir)\n",
        "  print('porcentaje rural : ' + str(counter_0/total_nbi*100)+'%\\nporcentaje urbano: '+str(counter_1/total_nbi*100))"
      ],
      "execution_count": null,
      "outputs": []
    },
    {
      "cell_type": "code",
      "metadata": {
        "colab": {
          "base_uri": "https://localhost:8080/"
        },
        "id": "1dL1LiFAG0Nr",
        "outputId": "12c327f2-11b6-410f-a382-b7ea3e3630a8"
      },
      "source": [
        "listnb6()"
      ],
      "execution_count": null,
      "outputs": [
        {
          "output_type": "stream",
          "name": "stdout",
          "text": [
            "porcentaje rural : 16.3265306122449%\n",
            "porcentaje urbano: 83.6734693877551\n"
          ]
        }
      ]
    },
    {
      "cell_type": "code",
      "metadata": {
        "id": "kYRfjcM5wB4W"
      },
      "source": [
        ""
      ],
      "execution_count": null,
      "outputs": []
    },
    {
      "cell_type": "markdown",
      "metadata": {
        "id": "GW2CAL_dFLnT"
      },
      "source": [
        "# **Urbano**"
      ]
    },
    {
      "cell_type": "code",
      "metadata": {
        "id": "TEGNXUQpmXsH"
      },
      "source": [
        "def listnb4():\n",
        "  counter_0 = 0 \n",
        "  counter_1 = 0\n",
        "  total_nbi = 49\n",
        "  lista_dir = []\n",
        "  for i in range (1, 50): \n",
        "    answer_resp = predict('/tmp/Data_Rural_vs_Urbano2/Dev/Urbano/Urbano'+str(i)+'.jpg')\n",
        " \n",
        "    \n",
        "    if answer_resp == 0:\n",
        "      #lista_dir.append(0)\n",
        "      counter_0 = counter_0+1\n",
        "    elif answer_resp == 1:\n",
        "      #lista_dir.append(1)\n",
        "      counter_1 = counter_1+1\n",
        "  #print(lista_dir)\n",
        "  print('porcentaje 0 rural : ' + str(counter_0/total_nbi*100)+'%\\nporcentaje urbano: '+str(counter_1/total_nbi*100))"
      ],
      "execution_count": null,
      "outputs": []
    },
    {
      "cell_type": "code",
      "metadata": {
        "colab": {
          "base_uri": "https://localhost:8080/"
        },
        "id": "itMx6O0-Fexx",
        "outputId": "d9cb4d11-2741-4ba6-8d30-ac09780198ce"
      },
      "source": [
        "listnb4()"
      ],
      "execution_count": null,
      "outputs": [
        {
          "output_type": "stream",
          "name": "stdout",
          "text": [
            "porcentaje 0 rural : 16.3265306122449%\n",
            "porcentaje urbano: 83.6734693877551\n"
          ]
        }
      ]
    }
  ]
}