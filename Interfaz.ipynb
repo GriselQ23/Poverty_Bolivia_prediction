{
 "cells": [
  {
   "cell_type": "code",
   "execution_count": 1,
   "id": "35066823",
   "metadata": {},
   "outputs": [],
   "source": [
    "import numpy as np\n",
    "from keras.preprocessing.image import load_img, img_to_array\n",
    "from keras.models import load_model\n",
    "import os\n",
    "import zipfile"
   ]
  },
  {
   "cell_type": "markdown",
   "id": "2728e3fc",
   "metadata": {},
   "source": [
    "# Carga de modelos"
   ]
  },
  {
   "cell_type": "markdown",
   "id": "5c284485",
   "metadata": {},
   "source": [
    "# Modelo A"
   ]
  },
  {
   "cell_type": "code",
   "execution_count": 2,
   "id": "27df26d0",
   "metadata": {},
   "outputs": [],
   "source": [
    "longitud, altura = 224, 224\n",
    "modeloA = 'Z:\\Prediccion\\Modelo\\modeloFTL_Rnet.h5'\n",
    "#pesos_modelo = '/content/drive/Shareddrives/PovertyModels/Modelos/modeloFTL6_pesos.h5'\n",
    "#weights = modelo.get_weights() \n",
    "cnnA = load_model(modeloA)\n",
    "#cnn.load_weights(weights)"
   ]
  },
  {
   "cell_type": "markdown",
   "id": "5a191d18",
   "metadata": {},
   "source": [
    "# Modelo B"
   ]
  },
  {
   "cell_type": "code",
   "execution_count": 3,
   "id": "974aba34",
   "metadata": {},
   "outputs": [],
   "source": [
    "longitud, altura = 224, 224\n",
    "modeloB = 'Z:\\Prediccion\\Modelo\\modeloFTL4_Rnet.h5'\n",
    "#pesos_modelo = '/content/drive/Shareddrives/PovertyModels/Modelos/modeloFTL6_pesos.h5'\n",
    "#weights = modelo.get_weights() \n",
    "cnnB = load_model(modeloB)\n",
    "#cnn.load_weights(weights)"
   ]
  },
  {
   "cell_type": "markdown",
   "id": "8bd49a80",
   "metadata": {},
   "source": [
    "# Modelo RvU"
   ]
  },
  {
   "cell_type": "code",
   "execution_count": 4,
   "id": "ac25cc9d",
   "metadata": {},
   "outputs": [],
   "source": [
    "longitud, altura = 224, 224\n",
    "modelo_r = 'Z:\\Prediccion\\Modelo\\modelRvU_Resnet.h5'\n",
    "#pesos_modelo = '/content/drive/Shareddrives/PovertyModels/Modelos/modeloFTL6_pesos.h5'\n",
    "#weights = modelo.get_weights() \n",
    "cnn_r = load_model(modelo_r)\n",
    "#cnn.load_weights(weights)"
   ]
  },
  {
   "cell_type": "code",
   "execution_count": 5,
   "id": "c8ce5b95",
   "metadata": {},
   "outputs": [],
   "source": [
    "#Prediccion para Rural y Urbano\n",
    "def predictR(file):\n",
    "    x = load_img(file, target_size=(longitud, altura))\n",
    "    x = img_to_array(x)\n",
    "    x = np.expand_dims(x, axis=0)\n",
    "    array = cnn_r.predict(x)\n",
    "    result = array[0]\n",
    "    answer = np.argmax(result)\n",
    "    return answer"
   ]
  },
  {
   "cell_type": "code",
   "execution_count": 6,
   "id": "3f91eba0",
   "metadata": {},
   "outputs": [],
   "source": [
    "#Prediccion para el Modelo A\n",
    "def predictA(file):\n",
    "    x = load_img(file, target_size=(longitud, altura))\n",
    "    x = img_to_array(x)\n",
    "    x = np.expand_dims(x, axis=0)\n",
    "    array = cnnA.predict(x)\n",
    "    result = array[0]\n",
    "    answer = np.argmax(result)\n",
    "    return answer"
   ]
  },
  {
   "cell_type": "code",
   "execution_count": 7,
   "id": "693a5fd4",
   "metadata": {},
   "outputs": [],
   "source": [
    "#Prediccion para el modelo B\n",
    "def predictB(file):\n",
    "    x = load_img(file, target_size=(longitud, altura))\n",
    "    x = img_to_array(x)\n",
    "    x = np.expand_dims(x, axis=0)\n",
    "    array = cnnB.predict(x)\n",
    "    result = array[0]\n",
    "    answer = np.argmax(result)\n",
    "    return answer"
   ]
  },
  {
   "cell_type": "code",
   "execution_count": 8,
   "id": "51c0d7ba",
   "metadata": {},
   "outputs": [],
   "source": [
    "\"\"\"# Clase 1\"\"\"\n",
    "\n",
    "def listnbc():\n",
    "    counter_0 = 0 \n",
    "    counter_1 = 0\n",
    "    counter_2 = 0 \n",
    "    #clase1=155 clase2=142 clase3=127\n",
    "    total_nbi = 387\n",
    "    lista_dir = []\n",
    "    for i in range (1355, 1742): \n",
    "        answer_resp = predictA('G:/Carpeta2/tmp/Validacion/1/1clase'+str(i)+'.jpg')\n",
    "        if answer_resp == 0:\n",
    "            counter_0 = counter_0+1\n",
    "        elif answer_resp == 1:\n",
    "            counter_1 = counter_1+1\n",
    "        elif answer_resp == 2:\n",
    "            counter_2 = counter_2+1\n",
    "\n",
    "    print('porcentaje 0 : ' + str(counter_0/total_nbi*100)+'%\\nporcentaje 1: '+str(counter_1/total_nbi*100)+'%\\nporcentaje 2: '+str(counter_2/total_nbi*100))\n",
    "\n",
    "    #listnbc()"
   ]
  },
  {
   "cell_type": "code",
   "execution_count": 9,
   "id": "a702ce06",
   "metadata": {},
   "outputs": [],
   "source": [
    "from tkinter import *\n",
    "from PIL import Image, ImageTk"
   ]
  },
  {
   "cell_type": "code",
   "execution_count": 11,
   "id": "151b7da5",
   "metadata": {},
   "outputs": [],
   "source": [
    "\n",
    "def texto_prediccion2(): \n",
    "    rural_urbano = predictR(caja_texto.get())\n",
    "    print (rural_urbano)\n",
    "    if rural_urbano == 0: \n",
    "        r=0\n",
    "        f='rural'\n",
    "        print(r)\n",
    "    if rural_urbano == 1: \n",
    "        r=1\n",
    "        f='urbana'\n",
    "        print(r)\n",
    "    resultado2[\"text\"]=f\n",
    "\n",
    "def texto_prediccion():\n",
    "    if modelos.get()==1: \n",
    "        print(\"modelo A\")\n",
    "        prediccion = predictA(caja_texto.get())\n",
    "        print(prediccion)\n",
    "        if prediccion == 0: \n",
    "            a = 1\n",
    "            g = 'clase 1'\n",
    "        if prediccion == 1: \n",
    "            a = 2\n",
    "            g = 'clase 2'\n",
    "        if prediccion == 2: \n",
    "            a = 3\n",
    "            g = 'clase 3'\n",
    "        resultado1[\"text\"]=g\n",
    "    if modelos.get()==2: \n",
    "        print(\"modelo B\")\n",
    "        prediccion = predictB(caja_texto.get())\n",
    "        if prediccion == 0: \n",
    "            a = 1\n",
    "            h = 'clase 1'\n",
    "        if prediccion == 1: \n",
    "            a = 2\n",
    "            h = 'clase 2'\n",
    "        if prediccion == 2: \n",
    "            a = 3\n",
    "            h = 'clase 3'\n",
    "        resultado1[\"text\"]=h  \n",
    "def texto_prediccion3(): \n",
    "    print(\"Municipios\")\n",
    "    prediccion_municipios = listnbc()\n",
    "    m=prediccion_municipios\n",
    "    resultado3[\"text\"]=m\n",
    "    print(m)\n",
    "\n",
    "def obtener_path(): \n",
    "    print(caja_texto.get()) \n",
    "    path=(caja_texto.get())\n",
    "    \n",
    "ventana = Tk()\n",
    "ventana.geometry(\"600x400\") #Configurar tamaño \n",
    "ventana.config(bg=\"black\") #Cambiar color de fondo\n",
    "#variables que almacenen los datos \n",
    "modelos = IntVar()\n",
    "opcion = IntVar()\n",
    "#modelos\n",
    "#etiqueta_modelos = Label(ventana, text=\"Modelo: \")\n",
    "entrada_Modelo_A = Radiobutton(ventana, text='Modelo A', variable=modelos, value=1)\n",
    "entrada_Modelo_B = Radiobutton(ventana, text='Modelo B', variable=modelos, value=2)\n",
    "#etiqueta_modelos.grid(row=2, column=1)\n",
    "entrada_Modelo_A.grid(row=2, column=2)\n",
    "entrada_Modelo_A.config(fg=\"white\",    # Foreground\n",
    "             bg=\"black\",   # Background\n",
    "             font=(\"Verdana\",20))\n",
    "entrada_Modelo_B.grid(row=2, column=3)\n",
    "entrada_Modelo_B.config(fg=\"white\",    # Foreground\n",
    "             bg=\"black\",   # Background\n",
    "             font=(\"Verdana\",20))\n",
    "\n",
    "\n",
    "\n",
    "#boton \n",
    "boton = Button(ventana, text=\"Predicción\", command=texto_prediccion, width=20)\n",
    "boton.grid(row=3, column=2) \n",
    "boton.config(fg=\"white\",    # Foreground\n",
    "             bg=\"black\",   # Background\n",
    "             font=(\"Verdana\",20))\n",
    "\n",
    "boton2 = Button(ventana, text=\"Rural/Urbana\", command=texto_prediccion2, width=20)\n",
    "boton2.grid(row=4, column=2) \n",
    "boton2.config(fg=\"white\",  # Foreground\n",
    "             bg=\"black\",   # Background\n",
    "             font=(\"Verdana\",20))\n",
    "\n",
    "#boton 3 \n",
    "boton3 = Button(ventana, text=\"Path\", command=obtener_path, width=20)\n",
    "boton3.grid(row=5, column=2) \n",
    "boton3.config(fg=\"white\",    # Foreground\n",
    "             bg=\"black\",   # Background\n",
    "             font=(\"Verdana\",20))\n",
    "#resultados \n",
    "resultado1 = Label(ventana)\n",
    "resultado1.grid(row=3, column=3)\n",
    "resultado1.config(fg=\"white\",    # Foreground\n",
    "             bg=\"black\",   # Background\n",
    "             font=(\"Verdana\",20))\n",
    "#texto1 = Label(ventana, text = 'La pobreza es categoría: ')\n",
    "#texto1.grid(row=3, column=8)\n",
    "\n",
    "#resultados 2\n",
    "resultado2 = Label(ventana)\n",
    "resultado2.grid(row=4, column=3)\n",
    "resultado2.config(fg=\"white\",    # Foreground\n",
    "             bg=\"black\",   # Background\n",
    "             font=(\"Verdana\",20))\n",
    "\n",
    "resultado3 = Label(ventana)\n",
    "resultado3.grid(row=5, column=3)\n",
    "resultado3.config(fg=\"white\",    # Foreground\n",
    "             bg=\"black\",   # Background\n",
    "             font=(\"Verdana\",20))\n",
    "\n",
    "#texto2 = Label(ventana, text = 'Esta imagen es 0 para categoría rural, 1 para categoría urbana:')\n",
    "#texto2.grid(row=5, column=3)\n",
    "\n",
    "#Filtros\n",
    "#etiqueta_filtros = Label(ventana, text='Municipios: ')\n",
    "#etiqueta_filtros.grid(row=5, column=2)\n",
    "#etiqueta_filtros.config(fg=\"black\",    # Foreground\n",
    "#             bg=\"white\",   # Background\n",
    "#             font=(\"Verdana\",20))\n",
    "caja_texto=Entry(ventana)\n",
    "caja_texto.grid(row=5, column=3)\n",
    "\n",
    "\n",
    "ventana.mainloop()"
   ]
  },
  {
   "cell_type": "code",
   "execution_count": null,
   "id": "ef6951ca",
   "metadata": {},
   "outputs": [],
   "source": []
  },
  {
   "cell_type": "code",
   "execution_count": null,
   "id": "b95bfe6c",
   "metadata": {},
   "outputs": [],
   "source": []
  },
  {
   "cell_type": "code",
   "execution_count": null,
   "id": "89d45766",
   "metadata": {},
   "outputs": [],
   "source": []
  }
 ],
 "metadata": {
  "kernelspec": {
   "display_name": "Python 3",
   "language": "python",
   "name": "python3"
  },
  "language_info": {
   "codemirror_mode": {
    "name": "ipython",
    "version": 3
   },
   "file_extension": ".py",
   "mimetype": "text/x-python",
   "name": "python",
   "nbconvert_exporter": "python",
   "pygments_lexer": "ipython3",
   "version": "3.8.10"
  }
 },
 "nbformat": 4,
 "nbformat_minor": 5
}
